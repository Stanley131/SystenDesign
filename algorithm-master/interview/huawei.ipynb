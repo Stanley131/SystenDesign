{
  "nbformat": 4,
  "nbformat_minor": 0,
  "metadata": {
    "colab": {
      "name": "huawei.ipynb",
      "version": "0.3.2",
      "provenance": [],
      "collapsed_sections": []
    },
    "kernelspec": {
      "name": "python3",
      "display_name": "Python 3"
    },
    "accelerator": "GPU"
  },
  "cells": [
    {
      "cell_type": "markdown",
      "metadata": {
        "id": "Kh1pcqrmvjR-",
        "colab_type": "text"
      },
      "source": [
        "# Question 1:\n",
        "\n",
        "Write a pow(a, b) function using basic operators.\n",
        "\n",
        "- Output = $ 𝑎 ^{𝑏} $\n",
        "- 𝑎, 𝑏 can be in any type (float, int, etc.)\n",
        "\n",
        "\n",
        "Note: pow2 is more efficient than pow1 as it implements the idea of bisection.\n",
        "\n",
        "           I did not figure out how to deal with float exponential efficiently. \n",
        "           Probably, numerically calculate by bisection method "
      ]
    },
    {
      "cell_type": "code",
      "metadata": {
        "id": "aXQWisXhven5",
        "colab_type": "code",
        "colab": {}
      },
      "source": [
        "def pow1(a, b):\n",
        "    if b == 0:\n",
        "        return 1\n",
        "    if b > 0:\n",
        "        return a * pow1(a, b-1)\n",
        "    if b < 0:\n",
        "        return 1/pow1(a, -b)\n",
        "    "
      ],
      "execution_count": 0,
      "outputs": []
    },
    {
      "cell_type": "code",
      "metadata": {
        "id": "3j5VsCN75_D5",
        "colab_type": "code",
        "colab": {}
      },
      "source": [
        "def pow2(a, b):\n",
        "    if b == 0:\n",
        "        return 1\n",
        "    if b > 0:\n",
        "        if b % 2 ==0:\n",
        "            return pow2(a, b/2) * pow2(a, b/2)\n",
        "        else:\n",
        "            return a * pow2(a, int(b/2)) * pow2(a, int(b/2))\n",
        "    if b < 0:\n",
        "        return 1/pow2(a, -b)"
      ],
      "execution_count": 0,
      "outputs": []
    },
    {
      "cell_type": "code",
      "metadata": {
        "id": "ex6R1cAD5KKV",
        "colab_type": "code",
        "outputId": "be24ec39-4945-4c0d-9f7f-b0a36811f95d",
        "colab": {
          "base_uri": "https://localhost:8080/",
          "height": 82
        }
      },
      "source": [
        "import time\n",
        "start = time.time()\n",
        "print(pow1(4, -10))\n",
        "print('Time = ', time.time() - start)\n",
        "\n",
        "start = time.time()\n",
        "print(pow2(4, -10))\n",
        "print('Time = ', time.time() - start)"
      ],
      "execution_count": 0,
      "outputs": [
        {
          "output_type": "stream",
          "text": [
            "9.5367431640625e-07\n",
            "Time =  0.00029206275939941406\n",
            "9.5367431640625e-07\n",
            "Time =  0.00012946128845214844\n"
          ],
          "name": "stdout"
        }
      ]
    },
    {
      "cell_type": "code",
      "metadata": {
        "id": "EhvuacY0I3If",
        "colab_type": "code",
        "colab": {}
      },
      "source": [
        "import math\n",
        "def pow3(a, b):     # a ** b = exp(ln(a ** b)) = exp(b * ln(a))\n",
        "    return math.exp(b * math.log(a))"
      ],
      "execution_count": 0,
      "outputs": []
    },
    {
      "cell_type": "code",
      "metadata": {
        "id": "z2ZFij9pJtek",
        "colab_type": "code",
        "colab": {}
      },
      "source": [
        "def pow4(a, b, tol):    # binomial theorem\n",
        "    if b == 0:\n",
        "        return 1\n",
        "    if b > 0:\n",
        "       \n",
        "        \n",
        "    if b < 0:\n",
        "        return 1/pow(a, -b)\n",
        "    \n",
        "    \n",
        "def binomial(x, n, tol):\n",
        "    term = 1\n",
        "    termSum = term\n",
        "    while term > tol\n",
        "        \n",
        "        termSum"
      ],
      "execution_count": 0,
      "outputs": []
    },
    {
      "cell_type": "code",
      "metadata": {
        "id": "bRhWvtnFUHg-",
        "colab_type": "code",
        "outputId": "d9f180c2-144e-46ca-d7fd-8ae190e2d394",
        "colab": {
          "base_uri": "https://localhost:8080/",
          "height": 196
        }
      },
      "source": [
        "import math\n",
        "\n",
        "math.factorial(1.1)"
      ],
      "execution_count": 0,
      "outputs": [
        {
          "output_type": "error",
          "ename": "ValueError",
          "evalue": "ignored",
          "traceback": [
            "\u001b[0;31m---------------------------------------------------------------------------\u001b[0m",
            "\u001b[0;31mValueError\u001b[0m                                Traceback (most recent call last)",
            "\u001b[0;32m<ipython-input-13-2a63993998a9>\u001b[0m in \u001b[0;36m<module>\u001b[0;34m()\u001b[0m\n\u001b[1;32m      1\u001b[0m \u001b[0;32mimport\u001b[0m \u001b[0mmath\u001b[0m\u001b[0;34m\u001b[0m\u001b[0;34m\u001b[0m\u001b[0m\n\u001b[1;32m      2\u001b[0m \u001b[0;34m\u001b[0m\u001b[0m\n\u001b[0;32m----> 3\u001b[0;31m \u001b[0mmath\u001b[0m\u001b[0;34m.\u001b[0m\u001b[0mfactorial\u001b[0m\u001b[0;34m(\u001b[0m\u001b[0;36m1.1\u001b[0m\u001b[0;34m)\u001b[0m\u001b[0;34m\u001b[0m\u001b[0;34m\u001b[0m\u001b[0m\n\u001b[0m",
            "\u001b[0;31mValueError\u001b[0m: factorial() only accepts integral values"
          ]
        }
      ]
    },
    {
      "cell_type": "markdown",
      "metadata": {
        "id": "V3YqI9ZURIRt",
        "colab_type": "text"
      },
      "source": [
        "The way of calculating decimal powers: considering binomial theorem $(1+x)^{n} = 1 + n * x + \\frac{n*(n-1) * x^{2}}{2!} +... $ with x <1\n",
        "\n",
        "Example:\n",
        "\n",
        "$ 3.1^{0.5} = (1 + 2.1)^{0.5}  \\\\\n",
        "= (2.1)^{0.5} (1/2.1 + 1)^{0.5} \\\\\n",
        "=(1 + 1.1)^{0.5} (1/2.1 + 1)^{0.5}  \\\\\n",
        "=(1.1)^{0.5} (1/1.1 + 1)^{0.5} (1/2.1 + 1)^{0.5}  \\\\\n",
        "= (1+0.1)^{0.5} (1/1.1 + 1)^{0.5} (1/2.1 + 1)^{0.5} $\n",
        "\n"
      ]
    },
    {
      "cell_type": "code",
      "metadata": {
        "id": "3gaypzECJXUE",
        "colab_type": "code",
        "outputId": "f7dfae0b-53bb-4330-85ae-f805c7dbe118",
        "colab": {
          "base_uri": "https://localhost:8080/",
          "height": 32
        }
      },
      "source": [
        "print(pow3(1.2, 3.2))\n",
        "print(pow4(1.2, 3.2))"
      ],
      "execution_count": 0,
      "outputs": [
        {
          "output_type": "stream",
          "text": [
            "1.7921732359737277\n"
          ],
          "name": "stdout"
        }
      ]
    },
    {
      "cell_type": "markdown",
      "metadata": {
        "id": "cZzimsMWv4P7",
        "colab_type": "text"
      },
      "source": [
        "# Question 2:\n",
        "\n",
        "Implement a special priority queue class using python list with the following properties and methods: (use ascending priority)\n",
        " \n",
        "- Items in the queue can flagged as permanent.\n",
        "- Permanent items cannot be removed from the queue, and should stay in the queue\n",
        "permanently\n",
        "- Provide the following methods:\n",
        "   - put(item, permanent=False)\n",
        "        add item into the queue and flag the item to permanent if permanent==True; if the queue is full, the new item replaces a non-permanent item with the least priority\n",
        "   - sample(n)\n",
        "       select n items based on priority, return a list of selected items; remove selected items from the queue if they are not flagged as permanent\n",
        "   - full() return True if the queue is full\n",
        "- Analyze your code in terms of complexity and memory usage.\n",
        "\n",
        "\n",
        "\n",
        "Note:\n",
        "The memory usage should be O(n) where n is the number of item put into the queue.\n",
        "\n",
        "For put(), the worst case scenerio is the capacity is full, then it requires to sort the list according to the permanent flag first and remove the lowest prioritized unpermanent one. The time required depends on the implementation of sort(), as it uses Tim sort, it is O(nlogn). And another O(n) requires to store the sorted list.\n",
        "So in general, time complexity O(nlogn) and storage O(n).\n",
        "\n",
        "For sample(), it requires to make a copy of the list, so the memory taken doubled, O(n). As for the time complexity, it takes O(n).\n",
        "\n",
        "For full(), the time complexity is O(1).\n",
        "\n",
        "The main defects for this program is the lack of investigation when using put(). When the queue is full, a unpermanent item will be removed, no matter how high its priority compared with the one supposed to be added in.\n"
      ]
    },
    {
      "cell_type": "code",
      "metadata": {
        "id": "u1nIJh6vv52T",
        "colab_type": "code",
        "colab": {}
      },
      "source": [
        "class PriorityQueue():\n",
        "    \n",
        "    def __init__(self, capacity):\n",
        "        '''\n",
        "        @param PriorityQueue self: this PriorityQueue Object\n",
        "        @param capacity size: maximum capacity of this PriorityQueue\n",
        "        @rtype: None\n",
        "        '''\n",
        "        \n",
        "        if type(capacity) == int and capacity >=0:\n",
        "            self.capacity = capacity\n",
        "        else:\n",
        "            raise Exception ('Invalid Capacity Argument')\n",
        "            \n",
        "        self.queue = list()    # nested list to store item and the permanent property of each item respectively\n",
        "    \n",
        "    def __str__(self):\n",
        "        return str(self.queue)\n",
        "    \n",
        "    def put(self, item, permanent=False):\n",
        "        \n",
        "        if len(self.queue) < self.capacity:\n",
        "            self.queue.append([item, permanent])\n",
        "            self.queue = sorted(self.queue, key=lambda x: x[0])\n",
        "        else:\n",
        "            newq = sorted(self.queue, key=lambda x: x[1])\n",
        "            \n",
        "            if newq[0][1] == False:\n",
        "                self.queue.remove(newq[0])\n",
        "                self.put(item, permanent)\n",
        "            else:\n",
        "                print('The Queue is full with permanent items; Please increase Capacity')\n",
        "        \n",
        "            \n",
        "    def sample(self, n):\n",
        "        if n > len(self.queue):\n",
        "            print('not enough items to select')\n",
        "        else:\n",
        "            selected = list()\n",
        "            queue = self.queue.copy()\n",
        "            \n",
        "            for i in range(len(self.queue) - n, len(self.queue)):\n",
        "                selected.append(self.queue[i][0])\n",
        "                \n",
        "                if self.queue[i][1] == False:\n",
        "                    queue.remove(self.queue[i])\n",
        "                    \n",
        "        self.queue = queue\n",
        "        return selected\n",
        "                \n",
        "    \n",
        "    def full(self):\n",
        "        if len(self.queue) == self.capacity:\n",
        "            return True\n",
        "        return False"
      ],
      "execution_count": 0,
      "outputs": []
    },
    {
      "cell_type": "code",
      "metadata": {
        "id": "6zUN9dQ_xlKs",
        "colab_type": "code",
        "outputId": "132379eb-48df-43db-fc83-1632c3ba0d22",
        "colab": {
          "base_uri": "https://localhost:8080/",
          "height": 115
        }
      },
      "source": [
        "pq = PriorityQueue(4)\n",
        "pq.put(4)\n",
        "print(pq)\n",
        "pq.put(2, True)\n",
        "print(pq)\n",
        "pq.put(8, True)\n",
        "print(pq)\n",
        "pq.put(9, True)\n",
        "print(pq)\n",
        "\n",
        "print(\"sample 3 items: \", pq.sample(3))\n",
        "print(\"current pq: \", pq)"
      ],
      "execution_count": 0,
      "outputs": [
        {
          "output_type": "stream",
          "text": [
            "[[4, False]]\n",
            "[[2, True], [4, False]]\n",
            "[[2, True], [4, False], [8, True]]\n",
            "[[2, True], [4, False], [8, True], [9, True]]\n",
            "sample 3 items:  [4, 8, 9]\n",
            "current pq:  [[2, True], [8, True], [9, True]]\n"
          ],
          "name": "stdout"
        }
      ]
    },
    {
      "cell_type": "markdown",
      "metadata": {
        "id": "UvQuZFsEv6l6",
        "colab_type": "text"
      },
      "source": [
        "# Question 3:\n",
        "\n",
        "Consider an n × n grid. You need to write a function to find a path (not necessarily the shortest path) that it will take to move from cell A to cell B within the grid, and return the path between these cells. A random number is assigned to each grid cell, representing the height of each cell. A move is considered to be a single step from the current position to some adjacent position in the grid. We can move in all four directions: up (↑), down (↓), left (←), and right (→).\n",
        "- Rules:\n",
        "    - R1: We can only move to the adjacent cells that have equal or shorter heights.\n",
        "    - R2: If no move is possible with respect to R1, return None.\n",
        "\n",
        "\n",
        "Note: this question is implemented by BFS, and the main problem is the lack of circle detection. (will be forced into infinite loop)"
      ]
    },
    {
      "cell_type": "code",
      "metadata": {
        "id": "84tE6-WAv648",
        "colab_type": "code",
        "colab": {}
      },
      "source": [
        "import random\n",
        "import numpy as np\n",
        "\n",
        "class FindPath():\n",
        "    '''\n",
        "    @param FindPath self: this FindPath Object\n",
        "    @param int size: size of N * N grid\n",
        "    @param tuple(int, int) locA: location of the start\n",
        "    @param tuple(int, int) locB: location of the destination\n",
        "    @rtype: None\n",
        "    \n",
        "    Check of input types not implemented, Corrent inputs are expected.\n",
        "    \n",
        "    '''\n",
        "    def __init__(self, size, locA, locB):\n",
        "        self.size = size\n",
        "        self.grid = np.random.randint(0, 10, (size, size))\n",
        "        self.path = list()\n",
        "        self.path.append(['A', locA])     # argument 0 for path history, 1 for current location\n",
        "        \n",
        "        if not size > (locA[0] or locA[1]) >= 0 :\n",
        "            raise Exception ('location A out of bound')\n",
        "        if not size > (locB[0] or locB[1]) >= 0 :\n",
        "            raise Exception ('location B out of bound')\n",
        "            \n",
        "        self.locA = locA\n",
        "        self.locB = locB\n",
        "    \n",
        "    def printGrid(self):\n",
        "        print(self.grid)\n",
        "    \n",
        "    def explore(self, last_step, curr_loc):\n",
        "        \"\"\"\n",
        "        Define the movement up down left right as 'w' 's' 'a' 'd'.\n",
        "        Return the valid step forward at current location curr_loc as a list\n",
        "        Using last_step to avoid moving forth and back iteratively.\n",
        "        \n",
        "        \"\"\"\n",
        "        valid_step = list()\n",
        "        # up\n",
        "        if not last_step == 's':\n",
        "            up_pos = (curr_loc[0]-1, curr_loc[1])\n",
        "            if curr_loc[0] > 0 and self.valid(curr_loc, up_pos):\n",
        "                valid_step.append(['w', up_pos])\n",
        "        # down\n",
        "        if not last_step == 'w':\n",
        "            down_pos = (curr_loc[0]+1, curr_loc[1])\n",
        "            if curr_loc[0] < self.size-1 and self.valid(curr_loc, down_pos):\n",
        "                valid_step.append(['s', down_pos])\n",
        "        # left\n",
        "        if not last_step == 'd':\n",
        "            left_pos = (curr_loc[0], curr_loc[1]-1)\n",
        "            if curr_loc[1] > 0 and self.valid(curr_loc, left_pos):\n",
        "                valid_step.append(['a', left_pos])\n",
        "        # right\n",
        "        if not last_step == 'a':\n",
        "            right_pos = (curr_loc[0], curr_loc[1]+1)\n",
        "            if curr_loc[1] < self.size-1 and self.valid(curr_loc, right_pos):\n",
        "                valid_step.append(['d', right_pos])\n",
        "        return valid_step\n",
        "        \n",
        "        \n",
        "    def find(self):\n",
        "        \"\"\"\n",
        "        Define the movement up down left right as 'w' 's' 'a' 'd'.\n",
        "        The elements in self.path will be explored, until it is empty or a solution is found.\n",
        "        \n",
        "        \"\"\"\n",
        "        while len(self.path):\n",
        "            curr = self.path.pop(0)\n",
        "            print('Current Exploration at ', curr)\n",
        "           \n",
        "            if curr[1] == self.locB:\n",
        "                return self.path[0][0] + 'B'\n",
        "            \n",
        "            else:\n",
        "                last_step = curr[0][-1]\n",
        "                valid_path = self.explore(last_step, curr[1])\n",
        "                if len(valid_path) != 0:\n",
        "                    for item in valid_path:\n",
        "                        path = curr[0] + item[0]\n",
        "                        self.path.append([path, item[1]])\n",
        "            print(\"path list\", self.path)\n",
        "        return None\n",
        "\n",
        "    def valid(self, posA, posB):\n",
        "        '''\n",
        "        return True if a path can be made from A to B (adjacent)\n",
        "        @param tuple(int, int) posA: position of A\n",
        "        @param tuple(int, int) posB: position of B\n",
        "        @rtype: Boolean\n",
        "        '''\n",
        "        if self.grid[posA[0], posA[1]] >= self.grid[posB[0], posB[1]]:\n",
        "            return True\n",
        "        return False\n",
        "    "
      ],
      "execution_count": 0,
      "outputs": []
    },
    {
      "cell_type": "code",
      "metadata": {
        "id": "YJGryPK739rT",
        "colab_type": "code",
        "outputId": "72531dc2-df13-49e5-c5dd-792488f74d84",
        "colab": {
          "base_uri": "https://localhost:8080/",
          "height": 263
        }
      },
      "source": [
        "fp = FindPath(3, (1, 1), (0, 0))\n",
        "fp.printGrid()\n",
        "print(fp.find())"
      ],
      "execution_count": 0,
      "outputs": [
        {
          "output_type": "stream",
          "text": [
            "[[0 4 9]\n",
            " [2 9 9]\n",
            " [5 3 6]]\n",
            "Current Exploration at  ['A', (1, 1)]\n",
            "path list [['Aw', (0, 1)], ['As', (2, 1)], ['Aa', (1, 0)], ['Ad', (1, 2)]]\n",
            "Current Exploration at  ['Aw', (0, 1)]\n",
            "path list [['As', (2, 1)], ['Aa', (1, 0)], ['Ad', (1, 2)], ['Awa', (0, 0)]]\n",
            "Current Exploration at  ['As', (2, 1)]\n",
            "path list [['Aa', (1, 0)], ['Ad', (1, 2)], ['Awa', (0, 0)]]\n",
            "Current Exploration at  ['Aa', (1, 0)]\n",
            "path list [['Ad', (1, 2)], ['Awa', (0, 0)], ['Aaw', (0, 0)]]\n",
            "Current Exploration at  ['Ad', (1, 2)]\n",
            "path list [['Awa', (0, 0)], ['Aaw', (0, 0)], ['Adw', (0, 2)], ['Ads', (2, 2)]]\n",
            "Current Exploration at  ['Awa', (0, 0)]\n",
            "AawB\n"
          ],
          "name": "stdout"
        }
      ]
    },
    {
      "cell_type": "markdown",
      "metadata": {
        "id": "U5tqQUuod0l7",
        "colab_type": "text"
      },
      "source": [
        "Not fully explored. As long as a solution is found, it halts.\n",
        "\n",
        "Check the above example, the path A-w-a-B is not found. (where A stands for start position, B for destination and little letters for the path.)"
      ]
    }
  ]
}